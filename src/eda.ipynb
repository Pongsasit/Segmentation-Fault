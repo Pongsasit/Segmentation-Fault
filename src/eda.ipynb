{
 "cells": [
  {
   "cell_type": "markdown",
   "id": "29f86249-4a72-4c8c-bec0-007dbd7e2760",
   "metadata": {},
   "source": [
    "### Imports"
   ]
  },
  {
   "cell_type": "code",
   "execution_count": 2,
   "id": "0c506508-eeb0-41f2-b3e6-cdf25c24d302",
   "metadata": {},
   "outputs": [],
   "source": [
    "import sys\n",
    "from pathlib import Path\n",
    "import os, glob\n",
    "import numpy as np\n",
    "import pandas as pd\n",
    "import cv2\n",
    "from matplotlib import pyplot as plt\n",
    "from collections import defaultdict\n",
    "import pandas as pd\n",
    "import shutil\n",
    "from utils.ymlParser import parse_yml\n"
   ]
  },
  {
   "cell_type": "markdown",
   "id": "cbe7aae6-4883-43c2-abcb-bb10ba938144",
   "metadata": {
    "tags": []
   },
   "source": [
    "### Load data attributes into dataframe"
   ]
  },
  {
   "cell_type": "markdown",
   "id": "9833b58d-cd66-49be-a237-8d7e00aa07b8",
   "metadata": {},
   "source": [
    "Load data attributes into dataframe.  \n",
    "Makes it easier to select our desired data for viewing  "
   ]
  },
  {
   "cell_type": "code",
   "execution_count": 3,
   "id": "97d4ef47-2e4e-45b8-8f5d-9ff9d04cfbe6",
   "metadata": {},
   "outputs": [
    {
     "name": "stdout",
     "output_type": "stream",
     "text": [
      "yml file parsed succefully\n"
     ]
    }
   ],
   "source": [
    "# data_path = Path('/home/user/hackathon/data')\n",
    "# test_image_paths = glob.glob('./data/cropped/test/**/*.tif', recursive=True)\n",
    "# train_image_paths = glob.glob('./data/cropped/train/**/*.tif', recursive=True)\n",
    "\n",
    "config = parse_yml('./configs/config.yml')\n",
    "all_image_paths = glob.glob(os.path.join(config.data_dir, 'crops_update/**/*.tif'), recursive=True) #TODO: read path from config"
   ]
  },
  {
   "cell_type": "code",
   "execution_count": 55,
   "id": "c0dbd464-45e3-444b-9a13-b55d3091deec",
   "metadata": {},
   "outputs": [],
   "source": [
    "data_list = []\n",
    "plants = {'X': 'unknown','1':'cassava', '2':'rice', '3':'maize', '4':'sugarcane'}\n",
    "for path in all_image_paths:\n",
    "    # print(path)\n",
    "    path_parts = path.split('/')\n",
    "    mode = path_parts[6]\n",
    "    year = path_parts[7]\n",
    "    date = path_parts[8]\n",
    "    sample_id = path_parts[9]\n",
    "    filename = path_parts[10]\n",
    "    filepath = path\n",
    "    filedir = Path(path).parents[0]\n",
    "    lab = filename.split('_')[0]\n",
    "    class_name = plants[lab]\n",
    "    band = filename.split('_')[-1].split('.')[0]\n",
    "    # print(path_parts)\n",
    "    # print(mode, year, date, sample_id, filename, filepath, lab)\n",
    "    \n",
    "    data_list.append((mode, year, date, sample_id, band, filename, filepath, filedir, class_name, lab))\n",
    "    "
   ]
  },
  {
   "cell_type": "code",
   "execution_count": 56,
   "id": "52450365-55fa-4272-a275-4a98ff2e4cf3",
   "metadata": {},
   "outputs": [
    {
     "data": {
      "text/plain": [
       "['',\n",
       " 'home',\n",
       " 'user',\n",
       " 'hackathon',\n",
       " 'data',\n",
       " 'crops_update',\n",
       " 'train',\n",
       " '2020',\n",
       " '20200201',\n",
       " '779',\n",
       " '1_47PQS_20200201_B05.tif']"
      ]
     },
     "execution_count": 56,
     "metadata": {},
     "output_type": "execute_result"
    }
   ],
   "source": [
    "path_parts"
   ]
  },
  {
   "cell_type": "code",
   "execution_count": 57,
   "id": "11eeab04-6e0f-48f1-b930-77749932e779",
   "metadata": {},
   "outputs": [],
   "source": [
    "df = pd.DataFrame(data_list, columns =['mode', 'year', 'date', 'sample_id', 'band', 'filename', 'filepath','filedir', 'class_name', 'lab'])"
   ]
  },
  {
   "cell_type": "code",
   "execution_count": 58,
   "id": "2028c92a-9f90-4fbb-8010-8591a52c0acf",
   "metadata": {},
   "outputs": [
    {
     "data": {
      "text/html": [
       "<div>\n",
       "<style scoped>\n",
       "    .dataframe tbody tr th:only-of-type {\n",
       "        vertical-align: middle;\n",
       "    }\n",
       "\n",
       "    .dataframe tbody tr th {\n",
       "        vertical-align: top;\n",
       "    }\n",
       "\n",
       "    .dataframe thead th {\n",
       "        text-align: right;\n",
       "    }\n",
       "</style>\n",
       "<table border=\"1\" class=\"dataframe\">\n",
       "  <thead>\n",
       "    <tr style=\"text-align: right;\">\n",
       "      <th></th>\n",
       "      <th>mode</th>\n",
       "      <th>year</th>\n",
       "      <th>date</th>\n",
       "      <th>sample_id</th>\n",
       "      <th>band</th>\n",
       "      <th>filename</th>\n",
       "      <th>filepath</th>\n",
       "      <th>filedir</th>\n",
       "      <th>class_name</th>\n",
       "      <th>lab</th>\n",
       "    </tr>\n",
       "  </thead>\n",
       "  <tbody>\n",
       "    <tr>\n",
       "      <th>0</th>\n",
       "      <td>test</td>\n",
       "      <td>2021</td>\n",
       "      <td>20210913</td>\n",
       "      <td>49</td>\n",
       "      <td>B11</td>\n",
       "      <td>X_47PQS_20210913_B11.tif</td>\n",
       "      <td>/home/user/hackathon/data/crops_update/test/20...</td>\n",
       "      <td>/home/user/hackathon/data/crops_update/test/20...</td>\n",
       "      <td>unknown</td>\n",
       "      <td>X</td>\n",
       "    </tr>\n",
       "    <tr>\n",
       "      <th>1</th>\n",
       "      <td>test</td>\n",
       "      <td>2021</td>\n",
       "      <td>20210913</td>\n",
       "      <td>49</td>\n",
       "      <td>B05</td>\n",
       "      <td>X_47PQS_20210913_B05.tif</td>\n",
       "      <td>/home/user/hackathon/data/crops_update/test/20...</td>\n",
       "      <td>/home/user/hackathon/data/crops_update/test/20...</td>\n",
       "      <td>unknown</td>\n",
       "      <td>X</td>\n",
       "    </tr>\n",
       "    <tr>\n",
       "      <th>2</th>\n",
       "      <td>test</td>\n",
       "      <td>2021</td>\n",
       "      <td>20210913</td>\n",
       "      <td>49</td>\n",
       "      <td>TCI</td>\n",
       "      <td>X_47PQS_20210913_TCI.tif</td>\n",
       "      <td>/home/user/hackathon/data/crops_update/test/20...</td>\n",
       "      <td>/home/user/hackathon/data/crops_update/test/20...</td>\n",
       "      <td>unknown</td>\n",
       "      <td>X</td>\n",
       "    </tr>\n",
       "    <tr>\n",
       "      <th>3</th>\n",
       "      <td>test</td>\n",
       "      <td>2021</td>\n",
       "      <td>20210913</td>\n",
       "      <td>49</td>\n",
       "      <td>B06</td>\n",
       "      <td>X_47PQS_20210913_B06.tif</td>\n",
       "      <td>/home/user/hackathon/data/crops_update/test/20...</td>\n",
       "      <td>/home/user/hackathon/data/crops_update/test/20...</td>\n",
       "      <td>unknown</td>\n",
       "      <td>X</td>\n",
       "    </tr>\n",
       "    <tr>\n",
       "      <th>4</th>\n",
       "      <td>test</td>\n",
       "      <td>2021</td>\n",
       "      <td>20210913</td>\n",
       "      <td>49</td>\n",
       "      <td>B03</td>\n",
       "      <td>X_47PQS_20210913_B03.tif</td>\n",
       "      <td>/home/user/hackathon/data/crops_update/test/20...</td>\n",
       "      <td>/home/user/hackathon/data/crops_update/test/20...</td>\n",
       "      <td>unknown</td>\n",
       "      <td>X</td>\n",
       "    </tr>\n",
       "  </tbody>\n",
       "</table>\n",
       "</div>"
      ],
      "text/plain": [
       "   mode  year      date sample_id band                  filename  \\\n",
       "0  test  2021  20210913        49  B11  X_47PQS_20210913_B11.tif   \n",
       "1  test  2021  20210913        49  B05  X_47PQS_20210913_B05.tif   \n",
       "2  test  2021  20210913        49  TCI  X_47PQS_20210913_TCI.tif   \n",
       "3  test  2021  20210913        49  B06  X_47PQS_20210913_B06.tif   \n",
       "4  test  2021  20210913        49  B03  X_47PQS_20210913_B03.tif   \n",
       "\n",
       "                                            filepath  \\\n",
       "0  /home/user/hackathon/data/crops_update/test/20...   \n",
       "1  /home/user/hackathon/data/crops_update/test/20...   \n",
       "2  /home/user/hackathon/data/crops_update/test/20...   \n",
       "3  /home/user/hackathon/data/crops_update/test/20...   \n",
       "4  /home/user/hackathon/data/crops_update/test/20...   \n",
       "\n",
       "                                             filedir class_name lab  \n",
       "0  /home/user/hackathon/data/crops_update/test/20...    unknown   X  \n",
       "1  /home/user/hackathon/data/crops_update/test/20...    unknown   X  \n",
       "2  /home/user/hackathon/data/crops_update/test/20...    unknown   X  \n",
       "3  /home/user/hackathon/data/crops_update/test/20...    unknown   X  \n",
       "4  /home/user/hackathon/data/crops_update/test/20...    unknown   X  "
      ]
     },
     "execution_count": 58,
     "metadata": {},
     "output_type": "execute_result"
    }
   ],
   "source": [
    "df.head()"
   ]
  },
  {
   "cell_type": "markdown",
   "id": "6593fd21-6e15-4269-a5f6-76b982c20109",
   "metadata": {
    "tags": []
   },
   "source": [
    "### View all bands"
   ]
  },
  {
   "cell_type": "code",
   "execution_count": 59,
   "id": "20445a35-7710-4c1e-b963-750097f7542d",
   "metadata": {},
   "outputs": [
    {
     "name": "stdout",
     "output_type": "stream",
     "text": [
      "number of bands: 15\n",
      "['AOT' 'B01' 'B02' 'B03' 'B04' 'B05' 'B06' 'B07' 'B08' 'B11' 'B12' 'B8A'\n",
      " 'SCL' 'TCI' 'WVP']\n"
     ]
    }
   ],
   "source": [
    "unq_bands = np.sort(df.band.unique())\n",
    "print(f'number of bands: {len(unq_bands)}')\n",
    "print(unq_bands)\n",
    "    \n"
   ]
  },
  {
   "cell_type": "markdown",
   "id": "9a40ec75-0e0c-4e7d-ac59-bbaa96cabc88",
   "metadata": {
    "tags": []
   },
   "source": [
    "### View all classes"
   ]
  },
  {
   "cell_type": "code",
   "execution_count": 60,
   "id": "71caeba0-d380-4f30-bb0d-7f2747adc861",
   "metadata": {},
   "outputs": [
    {
     "name": "stdout",
     "output_type": "stream",
     "text": [
      "number of classes: 5\n",
      "['cassava' 'maize' 'rice' 'sugarcane' 'unknown']\n"
     ]
    }
   ],
   "source": [
    "dat = np.sort(df.class_name.unique())\n",
    "print(f'number of classes: {len(dat)}')\n",
    "print(dat)\n",
    "    \n"
   ]
  },
  {
   "cell_type": "markdown",
   "id": "709c9467-205c-42d2-895a-f0d1ba718c04",
   "metadata": {},
   "source": [
    "let's inspect the number of samples for each label"
   ]
  },
  {
   "cell_type": "code",
   "execution_count": 61,
   "id": "a4976e24-977f-46a8-95bb-ecba6418820e",
   "metadata": {},
   "outputs": [
    {
     "data": {
      "text/plain": [
       "unknown      80230\n",
       "cassava      72420\n",
       "maize        61486\n",
       "rice         34080\n",
       "sugarcane    19028\n",
       "Name: class_name, dtype: int64"
      ]
     },
     "execution_count": 61,
     "metadata": {},
     "output_type": "execute_result"
    }
   ],
   "source": [
    "val_counts = df[df['band']=='TCI'].class_name.value_counts() #use only 1 band or else each sample gets multiplied with one band\n",
    "val_counts"
   ]
  },
  {
   "cell_type": "markdown",
   "id": "cc07acb0-ee1a-4116-91a0-6f8ec356facc",
   "metadata": {},
   "source": [
    "let's plot that"
   ]
  },
  {
   "cell_type": "code",
   "execution_count": 62,
   "id": "59485068-82ed-498a-ab97-3bfa23051a19",
   "metadata": {},
   "outputs": [
    {
     "data": {
      "image/png": "[encoded data removed]",
      "text/plain": [
       "<Figure size 432x288 with 1 Axes>"
      ]
     },
     "metadata": {
      "needs_background": "light"
     },
     "output_type": "display_data"
    }
   ],
   "source": [
    "\n",
    "val_counts.plot(kind='barh')\n",
    "plt.show()"
   ]
  },
  {
   "cell_type": "markdown",
   "id": "a49c819b-6f9c-49f5-802a-b36c57bc4d3d",
   "metadata": {},
   "source": [
    "### View number of samples\n"
   ]
  },
  {
   "cell_type": "code",
   "execution_count": 63,
   "id": "46317a66-b272-4fdb-add9-5e2bcf1e2f47",
   "metadata": {},
   "outputs": [
    {
     "name": "stdout",
     "output_type": "stream",
     "text": [
      "number of samples: 1317\n",
      "['0' '1' '10' ... '997' '998' '999']\n"
     ]
    }
   ],
   "source": [
    "dat = np.sort(df.sample_id.unique())\n",
    "print(f'number of samples: {len(dat)}')\n",
    "print(dat)\n",
    "    \n"
   ]
  },
  {
   "cell_type": "markdown",
   "id": "a9251aac-963a-485a-90d4-1e76a0e5a6e3",
   "metadata": {
    "tags": []
   },
   "source": [
    "### Create subset (sample) of data"
   ]
  },
  {
   "cell_type": "code",
   "execution_count": 105,
   "id": "10cc1bfa-185e-4a8a-a36f-7344a04a98f4",
   "metadata": {},
   "outputs": [
    {
     "name": "stdout",
     "output_type": "stream",
     "text": [
      "(3300, 10)\n"
     ]
    },
    {
     "data": {
      "text/html": [
       "<div>\n",
       "<style scoped>\n",
       "    .dataframe tbody tr th:only-of-type {\n",
       "        vertical-align: middle;\n",
       "    }\n",
       "\n",
       "    .dataframe tbody tr th {\n",
       "        vertical-align: top;\n",
       "    }\n",
       "\n",
       "    .dataframe thead th {\n",
       "        text-align: right;\n",
       "    }\n",
       "</style>\n",
       "<table border=\"1\" class=\"dataframe\">\n",
       "  <thead>\n",
       "    <tr style=\"text-align: right;\">\n",
       "      <th></th>\n",
       "      <th>mode</th>\n",
       "      <th>year</th>\n",
       "      <th>date</th>\n",
       "      <th>sample_id</th>\n",
       "      <th>band</th>\n",
       "      <th>filename</th>\n",
       "      <th>filepath</th>\n",
       "      <th>filedir</th>\n",
       "      <th>class_name</th>\n",
       "      <th>lab</th>\n",
       "    </tr>\n",
       "  </thead>\n",
       "  <tbody>\n",
       "    <tr>\n",
       "      <th>9135</th>\n",
       "      <td>test</td>\n",
       "      <td>2021</td>\n",
       "      <td>20210225</td>\n",
       "      <td>4</td>\n",
       "      <td>B06</td>\n",
       "      <td>X_47PQS_20210225_B06.tif</td>\n",
       "      <td>/home/user/hackathon/data/crops_update/test/20...</td>\n",
       "      <td>/home/user/hackathon/data/crops_update/test/20...</td>\n",
       "      <td>unknown</td>\n",
       "      <td>X</td>\n",
       "    </tr>\n",
       "    <tr>\n",
       "      <th>9136</th>\n",
       "      <td>test</td>\n",
       "      <td>2021</td>\n",
       "      <td>20210225</td>\n",
       "      <td>4</td>\n",
       "      <td>B04</td>\n",
       "      <td>X_47PQS_20210225_B04.tif</td>\n",
       "      <td>/home/user/hackathon/data/crops_update/test/20...</td>\n",
       "      <td>/home/user/hackathon/data/crops_update/test/20...</td>\n",
       "      <td>unknown</td>\n",
       "      <td>X</td>\n",
       "    </tr>\n",
       "    <tr>\n",
       "      <th>9137</th>\n",
       "      <td>test</td>\n",
       "      <td>2021</td>\n",
       "      <td>20210225</td>\n",
       "      <td>4</td>\n",
       "      <td>B07</td>\n",
       "      <td>X_47PQS_20210225_B07.tif</td>\n",
       "      <td>/home/user/hackathon/data/crops_update/test/20...</td>\n",
       "      <td>/home/user/hackathon/data/crops_update/test/20...</td>\n",
       "      <td>unknown</td>\n",
       "      <td>X</td>\n",
       "    </tr>\n",
       "    <tr>\n",
       "      <th>9138</th>\n",
       "      <td>test</td>\n",
       "      <td>2021</td>\n",
       "      <td>20210225</td>\n",
       "      <td>4</td>\n",
       "      <td>B12</td>\n",
       "      <td>X_47PQS_20210225_B12.tif</td>\n",
       "      <td>/home/user/hackathon/data/crops_update/test/20...</td>\n",
       "      <td>/home/user/hackathon/data/crops_update/test/20...</td>\n",
       "      <td>unknown</td>\n",
       "      <td>X</td>\n",
       "    </tr>\n",
       "    <tr>\n",
       "      <th>9139</th>\n",
       "      <td>test</td>\n",
       "      <td>2021</td>\n",
       "      <td>20210225</td>\n",
       "      <td>4</td>\n",
       "      <td>B02</td>\n",
       "      <td>X_47PQS_20210225_B02.tif</td>\n",
       "      <td>/home/user/hackathon/data/crops_update/test/20...</td>\n",
       "      <td>/home/user/hackathon/data/crops_update/test/20...</td>\n",
       "      <td>unknown</td>\n",
       "      <td>X</td>\n",
       "    </tr>\n",
       "  </tbody>\n",
       "</table>\n",
       "</div>"
      ],
      "text/plain": [
       "      mode  year      date sample_id band                  filename  \\\n",
       "9135  test  2021  20210225         4  B06  X_47PQS_20210225_B06.tif   \n",
       "9136  test  2021  20210225         4  B04  X_47PQS_20210225_B04.tif   \n",
       "9137  test  2021  20210225         4  B07  X_47PQS_20210225_B07.tif   \n",
       "9138  test  2021  20210225         4  B12  X_47PQS_20210225_B12.tif   \n",
       "9139  test  2021  20210225         4  B02  X_47PQS_20210225_B02.tif   \n",
       "\n",
       "                                               filepath  \\\n",
       "9135  /home/user/hackathon/data/crops_update/test/20...   \n",
       "9136  /home/user/hackathon/data/crops_update/test/20...   \n",
       "9137  /home/user/hackathon/data/crops_update/test/20...   \n",
       "9138  /home/user/hackathon/data/crops_update/test/20...   \n",
       "9139  /home/user/hackathon/data/crops_update/test/20...   \n",
       "\n",
       "                                                filedir class_name lab  \n",
       "9135  /home/user/hackathon/data/crops_update/test/20...    unknown   X  \n",
       "9136  /home/user/hackathon/data/crops_update/test/20...    unknown   X  \n",
       "9137  /home/user/hackathon/data/crops_update/test/20...    unknown   X  \n",
       "9138  /home/user/hackathon/data/crops_update/test/20...    unknown   X  \n",
       "9139  /home/user/hackathon/data/crops_update/test/20...    unknown   X  "
      ]
     },
     "execution_count": 105,
     "metadata": {},
     "output_type": "execute_result"
    }
   ],
   "source": [
    "subset = df[((df['date'].str.contains('202101'))|(df['date'].str.contains('202102')))\n",
    "            &\n",
    "            (df['sample_id'].astype(int) < 10)]\n",
    "print(subset.shape)\n",
    "subset.head()\n"
   ]
  },
  {
   "cell_type": "code",
   "execution_count": 65,
   "id": "bde5c1f4-769b-4b15-962d-0e193309fc80",
   "metadata": {
    "tags": []
   },
   "outputs": [],
   "source": [
    "\n",
    "# for idx, row in subset.iterrows():\n",
    "#     source_filepath = row.filepath\n",
    "#     dest_filepath = source_filepath.replace('crops_update', 'crops_update_subset')\n",
    "#     # print(source_filepath, os.path.basename(dest_filepath))\n",
    "#     os.makedirs(os.path.dirname(dest_filepath), exist_ok = True) \n",
    "#     shutil.copy(source_filepath, dest_filepath)\n"
   ]
  },
  {
   "cell_type": "markdown",
   "id": "60fbce6b-10a9-40dc-aaa3-96e523279680",
   "metadata": {},
   "source": [
    "### Load images and compute indexes"
   ]
  },
  {
   "cell_type": "code",
   "execution_count": 106,
   "id": "71aae6a0-0ac1-4348-a8ca-98c877b4b3d3",
   "metadata": {},
   "outputs": [],
   "source": [
    "dataset = subset"
   ]
  },
  {
   "cell_type": "code",
   "execution_count": 107,
   "id": "3487bb29-836c-45e9-9b96-ac872a542cc1",
   "metadata": {},
   "outputs": [
    {
     "data": {
      "text/plain": [
       "'/home/user/hackathon/data/crops_update/test/2021/20210225/4/X_47PQS_20210225_B06.tif'"
      ]
     },
     "execution_count": 107,
     "metadata": {},
     "output_type": "execute_result"
    }
   ],
   "source": [
    "dataset.iloc[0].filepath"
   ]
  },
  {
   "cell_type": "code",
   "execution_count": 109,
   "id": "cf935a74-b48f-41cc-8c79-3a46c1a8ddc5",
   "metadata": {},
   "outputs": [
    {
     "data": {
      "text/plain": [
       "0.0"
      ]
     },
     "execution_count": 109,
     "metadata": {},
     "output_type": "execute_result"
    }
   ],
   "source": [
    "NIR.mean()"
   ]
  },
  {
   "cell_type": "code",
   "execution_count": 161,
   "id": "d98b5259-06a5-477d-ac84-536c0988df0e",
   "metadata": {},
   "outputs": [],
   "source": [
    "import imageio.v3 as iio\n",
    "\n",
    "def get_stats(imagepath):\n",
    "    \"\"\"\n",
    "    gets an image path and returns its min max and mean\n",
    "    \"\"\"\n",
    "    image = iio.imread(imagepath)#.astype('float64')\n",
    "    return image, np.min(image), np.max(image), np.mean(image)\n",
    "\n",
    "def get_indexes_and_stats(G, RED, NIR):\n",
    "    NDWI = (G-NIR)/(G+NIR)\n",
    "    NDWI = np.nan_to_num(NDWI)\n",
    "    NDVI = (NIR-RED)/(NIR+RED)\n",
    "    NDVI = np.nan_to_num(NDVI)\n",
    "\n",
    "    results = []\n",
    "    for index in [NDWI, NDVI]:\n",
    "        results.append(index)\n",
    "        results.append(np.min(index))\n",
    "        results.append(np.max(index))\n",
    "        results.append(index.mean())\n",
    "    \n",
    "    return results"
   ]
  },
  {
   "cell_type": "code",
   "execution_count": 162,
   "id": "33e73a8e-3622-4586-a9ab-fd8cf4e757e8",
   "metadata": {},
   "outputs": [
    {
     "data": {
      "text/plain": [
       "'/home/user/hackathon/data/crops_update/train/2021/20210121/3/3_47PQS_20210121_B08.tif'"
      ]
     },
     "execution_count": 162,
     "metadata": {},
     "output_type": "execute_result"
    }
   ],
   "source": [
    "NIR_filepath"
   ]
  },
  {
   "cell_type": "code",
   "execution_count": 168,
   "id": "16ce82a9-0347-41c1-8698-fc4c91a490f7",
   "metadata": {},
   "outputs": [
    {
     "name": "stderr",
     "output_type": "stream",
     "text": [
      "/tmp/ipykernel_15420/2455217299.py:11: RuntimeWarning: invalid value encountered in true_divide\n",
      "  NDWI = (G-NIR)/(G+NIR)\n",
      "/tmp/ipykernel_15420/2455217299.py:13: RuntimeWarning: invalid value encountered in true_divide\n",
      "  NDVI = (NIR-RED)/(NIR+RED)\n"
     ]
    }
   ],
   "source": [
    "image_data = []\n",
    "for index, row in dataset.iterrows():\n",
    "    # print(row)\n",
    "    file_dir = Path(row.filepath).parents[0]\n",
    "    # print(file_dir)\n",
    "    if file_dir not in image_data:\n",
    "        this_sample_rows = dataset[dataset['filedir']==file_dir]\n",
    "        this_sample_rows.head()\n",
    "        NIR_filepath = this_sample_rows[this_sample_rows['band']=='B08'].filepath.values[0]\n",
    "        RED_filepath = this_sample_rows[this_sample_rows['band']=='B04'].filepath.values[0]\n",
    "        G_filepath = this_sample_rows[this_sample_rows['band']=='B03'].filepath.values[0]\n",
    "        TCI_filepath = this_sample_rows[this_sample_rows['band']=='TCI'].filepath.values[0]\n",
    "        # NIR_filepath\n",
    "        \n",
    "        NIR, NIR_min, NIR_max, NIR_mean = get_stats(NIR_filepath)\n",
    "        RED, RED_min, RED_max, RED_mean = get_stats(RED_filepath)\n",
    "        G, G_min, G_max, G_mean = get_stats(G_filepath)\n",
    "        TCI_min, TCI_max, TCI_mean, _ = get_stats(TCI_filepath)\n",
    "\n",
    "        NDWI, NDWI_min, NDWI_max, NDWI_mean, NDVI, NDVI_min, NDVI_max, NDVI_mean, = get_indexes_and_stats(G, RED, NIR)\n",
    "        \n",
    "        image_data.append({'mode':row.mode,\n",
    "                           'year':row.year,\n",
    "                            'name':str(file_dir),\n",
    "                           'class_name':row.class_name,\n",
    "                           'lab':row.lab,\n",
    "                            'NIR_min':NIR_min,\n",
    "                            'NIR_max':NIR_max,\n",
    "                            'NIR_mean':NIR_mean,\n",
    "                            'RED_min':RED_min,\n",
    "                            'RED_max':RED_max,\n",
    "                            'RED_mean':RED_mean,\n",
    "                            'G_min':G_min,\n",
    "                            'G_max':G_max,\n",
    "                            'G_mean':G_mean,\n",
    "                            'TCI_min':TCI_min,\n",
    "                            'TCI_max':TCI_max,\n",
    "                            'TCI_mean':TCI_mean,\n",
    "                            'NDWI_min':NDWI_min,\n",
    "                            'NDWI_max':NDWI_max,\n",
    "                            'NDWI_mean':NDWI_mean,\n",
    "                            'NDVI_min':NDVI_min,\n",
    "                            'NDVI_max':NDVI_max,\n",
    "                            'NDVI_mean':NDVI_mean\n",
    "                               })\n",
    "        \n",
    "\n",
    "image_data_df = pd.DataFrame(image_data)\n",
    "        \n",
    "        # print(file_dir)\n",
    "    # NIR = cv2.imread(row.filepath)"
   ]
  },
  {
   "cell_type": "code",
   "execution_count": 170,
   "id": "fc0276f1-2a08-47d9-9888-c4f55e231744",
   "metadata": {
    "tags": []
   },
   "outputs": [
    {
     "data": {
      "text/html": [
       "<div>\n",
       "<style scoped>\n",
       "    .dataframe tbody tr th:only-of-type {\n",
       "        vertical-align: middle;\n",
       "    }\n",
       "\n",
       "    .dataframe tbody tr th {\n",
       "        vertical-align: top;\n",
       "    }\n",
       "\n",
       "    .dataframe thead th {\n",
       "        text-align: right;\n",
       "    }\n",
       "</style>\n",
       "<table border=\"1\" class=\"dataframe\">\n",
       "  <thead>\n",
       "    <tr style=\"text-align: right;\">\n",
       "      <th></th>\n",
       "      <th>NIR_min</th>\n",
       "      <th>NIR_max</th>\n",
       "      <th>NIR_mean</th>\n",
       "      <th>RED_min</th>\n",
       "      <th>RED_max</th>\n",
       "      <th>RED_mean</th>\n",
       "      <th>G_min</th>\n",
       "      <th>G_max</th>\n",
       "      <th>G_mean</th>\n",
       "      <th>TCI_max</th>\n",
       "      <th>TCI_mean</th>\n",
       "      <th>NDWI_min</th>\n",
       "      <th>NDWI_max</th>\n",
       "      <th>NDWI_mean</th>\n",
       "      <th>NDVI_min</th>\n",
       "      <th>NDVI_max</th>\n",
       "      <th>NDVI_mean</th>\n",
       "    </tr>\n",
       "  </thead>\n",
       "  <tbody>\n",
       "    <tr>\n",
       "      <th>count</th>\n",
       "      <td>3300.0</td>\n",
       "      <td>3300.000000</td>\n",
       "      <td>3300.000000</td>\n",
       "      <td>3300.0</td>\n",
       "      <td>3300.000000</td>\n",
       "      <td>3300.000000</td>\n",
       "      <td>3300.0</td>\n",
       "      <td>3300.000000</td>\n",
       "      <td>3300.000000</td>\n",
       "      <td>3300.0</td>\n",
       "      <td>3300.000000</td>\n",
       "      <td>3300.0</td>\n",
       "      <td>3300.000000</td>\n",
       "      <td>3300.000000</td>\n",
       "      <td>3300.0</td>\n",
       "      <td>3300.000000</td>\n",
       "      <td>3300.000000</td>\n",
       "    </tr>\n",
       "    <tr>\n",
       "      <th>mean</th>\n",
       "      <td>0.0</td>\n",
       "      <td>155.927273</td>\n",
       "      <td>90.481152</td>\n",
       "      <td>0.0</td>\n",
       "      <td>117.872727</td>\n",
       "      <td>61.189476</td>\n",
       "      <td>0.0</td>\n",
       "      <td>101.413636</td>\n",
       "      <td>54.849442</td>\n",
       "      <td>0.0</td>\n",
       "      <td>-39.768182</td>\n",
       "      <td>0.0</td>\n",
       "      <td>431.849745</td>\n",
       "      <td>218.767516</td>\n",
       "      <td>0.0</td>\n",
       "      <td>38.861721</td>\n",
       "      <td>2.806710</td>\n",
       "    </tr>\n",
       "    <tr>\n",
       "      <th>std</th>\n",
       "      <td>0.0</td>\n",
       "      <td>19.327293</td>\n",
       "      <td>25.995642</td>\n",
       "      <td>0.0</td>\n",
       "      <td>26.141746</td>\n",
       "      <td>25.703141</td>\n",
       "      <td>0.0</td>\n",
       "      <td>30.411049</td>\n",
       "      <td>24.304961</td>\n",
       "      <td>0.0</td>\n",
       "      <td>36.634351</td>\n",
       "      <td>0.0</td>\n",
       "      <td>155.749458</td>\n",
       "      <td>72.164606</td>\n",
       "      <td>0.0</td>\n",
       "      <td>122.304100</td>\n",
       "      <td>13.303408</td>\n",
       "    </tr>\n",
       "    <tr>\n",
       "      <th>min</th>\n",
       "      <td>0.0</td>\n",
       "      <td>89.000000</td>\n",
       "      <td>29.647059</td>\n",
       "      <td>0.0</td>\n",
       "      <td>66.000000</td>\n",
       "      <td>19.796078</td>\n",
       "      <td>0.0</td>\n",
       "      <td>53.000000</td>\n",
       "      <td>16.054902</td>\n",
       "      <td>0.0</td>\n",
       "      <td>-127.000000</td>\n",
       "      <td>0.0</td>\n",
       "      <td>0.025253</td>\n",
       "      <td>0.010111</td>\n",
       "      <td>0.0</td>\n",
       "      <td>0.013405</td>\n",
       "      <td>0.002929</td>\n",
       "    </tr>\n",
       "    <tr>\n",
       "      <th>25%</th>\n",
       "      <td>0.0</td>\n",
       "      <td>144.000000</td>\n",
       "      <td>64.623573</td>\n",
       "      <td>0.0</td>\n",
       "      <td>102.000000</td>\n",
       "      <td>42.642857</td>\n",
       "      <td>0.0</td>\n",
       "      <td>82.000000</td>\n",
       "      <td>37.761187</td>\n",
       "      <td>0.0</td>\n",
       "      <td>-65.000000</td>\n",
       "      <td>0.0</td>\n",
       "      <td>348.343085</td>\n",
       "      <td>182.080718</td>\n",
       "      <td>0.0</td>\n",
       "      <td>0.311282</td>\n",
       "      <td>0.100686</td>\n",
       "    </tr>\n",
       "    <tr>\n",
       "      <th>50%</th>\n",
       "      <td>0.0</td>\n",
       "      <td>155.000000</td>\n",
       "      <td>91.406621</td>\n",
       "      <td>0.0</td>\n",
       "      <td>116.000000</td>\n",
       "      <td>57.804258</td>\n",
       "      <td>0.0</td>\n",
       "      <td>96.500000</td>\n",
       "      <td>50.968045</td>\n",
       "      <td>0.0</td>\n",
       "      <td>-40.000000</td>\n",
       "      <td>0.0</td>\n",
       "      <td>403.034310</td>\n",
       "      <td>215.137848</td>\n",
       "      <td>0.0</td>\n",
       "      <td>0.447232</td>\n",
       "      <td>0.160135</td>\n",
       "    </tr>\n",
       "    <tr>\n",
       "      <th>75%</th>\n",
       "      <td>0.0</td>\n",
       "      <td>167.000000</td>\n",
       "      <td>112.594017</td>\n",
       "      <td>0.0</td>\n",
       "      <td>133.000000</td>\n",
       "      <td>74.532873</td>\n",
       "      <td>0.0</td>\n",
       "      <td>110.000000</td>\n",
       "      <td>65.195707</td>\n",
       "      <td>0.0</td>\n",
       "      <td>-7.750000</td>\n",
       "      <td>0.0</td>\n",
       "      <td>497.123092</td>\n",
       "      <td>258.436383</td>\n",
       "      <td>0.0</td>\n",
       "      <td>0.621023</td>\n",
       "      <td>0.228228</td>\n",
       "    </tr>\n",
       "    <tr>\n",
       "      <th>max</th>\n",
       "      <td>0.0</td>\n",
       "      <td>214.000000</td>\n",
       "      <td>181.700000</td>\n",
       "      <td>0.0</td>\n",
       "      <td>214.000000</td>\n",
       "      <td>183.545455</td>\n",
       "      <td>0.0</td>\n",
       "      <td>216.000000</td>\n",
       "      <td>185.800000</td>\n",
       "      <td>0.0</td>\n",
       "      <td>127.000000</td>\n",
       "      <td>0.0</td>\n",
       "      <td>1598.219512</td>\n",
       "      <td>562.586867</td>\n",
       "      <td>0.0</td>\n",
       "      <td>819.150000</td>\n",
       "      <td>116.228218</td>\n",
       "    </tr>\n",
       "  </tbody>\n",
       "</table>\n",
       "</div>"
      ],
      "text/plain": [
       "       NIR_min      NIR_max     NIR_mean  RED_min      RED_max     RED_mean  \\\n",
       "count   3300.0  3300.000000  3300.000000   3300.0  3300.000000  3300.000000   \n",
       "mean       0.0   155.927273    90.481152      0.0   117.872727    61.189476   \n",
       "std        0.0    19.327293    25.995642      0.0    26.141746    25.703141   \n",
       "min        0.0    89.000000    29.647059      0.0    66.000000    19.796078   \n",
       "25%        0.0   144.000000    64.623573      0.0   102.000000    42.642857   \n",
       "50%        0.0   155.000000    91.406621      0.0   116.000000    57.804258   \n",
       "75%        0.0   167.000000   112.594017      0.0   133.000000    74.532873   \n",
       "max        0.0   214.000000   181.700000      0.0   214.000000   183.545455   \n",
       "\n",
       "        G_min        G_max       G_mean  TCI_max     TCI_mean  NDWI_min  \\\n",
       "count  3300.0  3300.000000  3300.000000   3300.0  3300.000000    3300.0   \n",
       "mean      0.0   101.413636    54.849442      0.0   -39.768182       0.0   \n",
       "std       0.0    30.411049    24.304961      0.0    36.634351       0.0   \n",
       "min       0.0    53.000000    16.054902      0.0  -127.000000       0.0   \n",
       "25%       0.0    82.000000    37.761187      0.0   -65.000000       0.0   \n",
       "50%       0.0    96.500000    50.968045      0.0   -40.000000       0.0   \n",
       "75%       0.0   110.000000    65.195707      0.0    -7.750000       0.0   \n",
       "max       0.0   216.000000   185.800000      0.0   127.000000       0.0   \n",
       "\n",
       "          NDWI_max    NDWI_mean  NDVI_min     NDVI_max    NDVI_mean  \n",
       "count  3300.000000  3300.000000    3300.0  3300.000000  3300.000000  \n",
       "mean    431.849745   218.767516       0.0    38.861721     2.806710  \n",
       "std     155.749458    72.164606       0.0   122.304100    13.303408  \n",
       "min       0.025253     0.010111       0.0     0.013405     0.002929  \n",
       "25%     348.343085   182.080718       0.0     0.311282     0.100686  \n",
       "50%     403.034310   215.137848       0.0     0.447232     0.160135  \n",
       "75%     497.123092   258.436383       0.0     0.621023     0.228228  \n",
       "max    1598.219512   562.586867       0.0   819.150000   116.228218  "
      ]
     },
     "execution_count": 170,
     "metadata": {},
     "output_type": "execute_result"
    }
   ],
   "source": [
    "image_data_df.describe()"
   ]
  },
  {
   "cell_type": "code",
   "execution_count": null,
   "id": "03a85eb8-9fec-4355-8582-1e5f196ffb4e",
   "metadata": {},
   "outputs": [],
   "source": []
  },
  {
   "cell_type": "markdown",
   "id": "0cd3c431-beaa-425d-bcee-ba607a3d5e0e",
   "metadata": {},
   "source": [
    "### compare samples between classes"
   ]
  },
  {
   "cell_type": "code",
   "execution_count": 113,
   "id": "88848054-e41c-417a-8982-413b178d09ea",
   "metadata": {},
   "outputs": [],
   "source": [
    "samples_class_1 = df[(df['band']=='TCI')&(df['lab']=='1')].iloc[0:5]\n",
    "samples_class_2 = df[(df['band']=='TCI')&(df['lab']=='2')].iloc[0:5]\n",
    "samples_class_3 = df[(df['band']=='TCI')&(df['lab']=='3')].iloc[0:5]\n",
    "samples_class_4 = df[(df['band']=='TCI')&(df['lab']=='4')].iloc[0:5]\n"
   ]
  },
  {
   "cell_type": "code",
   "execution_count": 114,
   "id": "ebafd77b-1345-4dba-a357-cc02e9a6404a",
   "metadata": {},
   "outputs": [],
   "source": [
    "def view_sample(row):\n",
    "    image = cv2.imread(row.filepath)\n",
    "    plt.figure(figsize=(2, 2))\n",
    "    plt.imshow(image)\n",
    "    plt.show()"
   ]
  },
  {
   "cell_type": "code",
   "execution_count": 115,
   "id": "de2532a1-7536-463a-ae29-166011f7bd95",
   "metadata": {},
   "outputs": [
    {
     "data": {
      "image/png": "[encoded data removed]",
      "text/plain": [
       "<Figure size 144x144 with 1 Axes>"
      ]
     },
     "metadata": {
      "needs_background": "light"
     },
     "output_type": "display_data"
    },
    {
     "data": {
      "image/png": "[encoded data removed]",
      "text/plain": [
       "<Figure size 144x144 with 1 Axes>"
      ]
     },
     "metadata": {
      "needs_background": "light"
     },
     "output_type": "display_data"
    },
    {
     "data": {
      "image/png": "[encoded data removed]",
      "text/plain": [
       "<Figure size 144x144 with 1 Axes>"
      ]
     },
     "metadata": {
      "needs_background": "light"
     },
     "output_type": "display_data"
    },
    {
     "data": {
      "image/png": "[encoded data removed]",
      "text/plain": [
       "<Figure size 144x144 with 1 Axes>"
      ]
     },
     "metadata": {
      "needs_background": "light"
     },
     "output_type": "display_data"
    },
    {
     "data": {
      "image/png": "[encoded data removed]",
      "text/plain": [
       "<Figure size 144x144 with 1 Axes>"
      ]
     },
     "metadata": {
      "needs_background": "light"
     },
     "output_type": "display_data"
    },
    {
     "data": {
      "image/png": "[encoded data removed]",
      "text/plain": [
       "<Figure size 144x144 with 1 Axes>"
      ]
     },
     "metadata": {
      "needs_background": "light"
     },
     "output_type": "display_data"
    },
    {
     "data": {
      "image/png": "[encoded data removed]",
      "text/plain": [
       "<Figure size 144x144 with 1 Axes>"
      ]
     },
     "metadata": {
      "needs_background": "light"
     },
     "output_type": "display_data"
    },
    {
     "data": {
      "image/png": "[encoded data removed]",
      "text/plain": [
       "<Figure size 144x144 with 1 Axes>"
      ]
     },
     "metadata": {
      "needs_background": "light"
     },
     "output_type": "display_data"
    },
    {
     "data": {
      "image/png": "[encoded data removed]",
      "text/plain": [
       "<Figure size 144x144 with 1 Axes>"
      ]
     },
     "metadata": {
      "needs_background": "light"
     },
     "output_type": "display_data"
    },
    {
     "data": {
      "image/png": "[encoded data removed]",
      "text/plain": [
       "<Figure size 144x144 with 1 Axes>"
      ]
     },
     "metadata": {
      "needs_background": "light"
     },
     "output_type": "display_data"
    },
    {
     "data": {
      "image/png": "[encoded data removed]",
      "text/plain": [
       "<Figure size 144x144 with 1 Axes>"
      ]
     },
     "metadata": {
      "needs_background": "light"
     },
     "output_type": "display_data"
    },
    {
     "data": {
      "image/png": "[encoded data removed]",
      "text/plain": [
       "<Figure size 144x144 with 1 Axes>"
      ]
     },
     "metadata": {
      "needs_background": "light"
     },
     "output_type": "display_data"
    },
    {
     "data": {
      "image/png": "[encoded data removed]",
      "text/plain": [
       "<Figure size 144x144 with 1 Axes>"
      ]
     },
     "metadata": {
      "needs_background": "light"
     },
     "output_type": "display_data"
    },
    {
     "data": {
      "image/png": "[encoded data removed]",
      "text/plain": [
       "<Figure size 144x144 with 1 Axes>"
      ]
     },
     "metadata": {
      "needs_background": "light"
     },
     "output_type": "display_data"
    },
    {
     "data": {
      "image/png": "[encoded data removed]",
      "text/plain": [
       "<Figure size 144x144 with 1 Axes>"
      ]
     },
     "metadata": {
      "needs_background": "light"
     },
     "output_type": "display_data"
    },
    {
     "data": {
      "image/png": "[encoded data removed]",
      "text/plain": [
       "<Figure size 144x144 with 1 Axes>"
      ]
     },
     "metadata": {
      "needs_background": "light"
     },
     "output_type": "display_data"
    },
    {
     "data": {
      "image/png": "[encoded data removed]",
      "text/plain": [
       "<Figure size 144x144 with 1 Axes>"
      ]
     },
     "metadata": {
      "needs_background": "light"
     },
     "output_type": "display_data"
    },
    {
     "data": {
      "image/png": "[encoded data removed]",
      "text/plain": [
       "<Figure size 144x144 with 1 Axes>"
      ]
     },
     "metadata": {
      "needs_background": "light"
     },
     "output_type": "display_data"
    },
    {
     "data": {
      "image/png": "[encoded data removed]",
      "text/plain": [
       "<Figure size 144x144 with 1 Axes>"
      ]
     },
     "metadata": {
      "needs_background": "light"
     },
     "output_type": "display_data"
    },
    {
     "data": {
      "image/png": "[encoded data removed]",
      "text/plain": [
       "<Figure size 144x144 with 1 Axes>"
      ]
     },
     "metadata": {
      "needs_background": "light"
     },
     "output_type": "display_data"
    }
   ],
   "source": [
    "for sample_class in [samples_class_1, samples_class_2, samples_class_3, samples_class_4]:\n",
    "    for index, row in sample_class.iterrows():\n",
    "        view_sample(row)\n",
    "    \n",
    "    "
   ]
  },
  {
   "cell_type": "markdown",
   "id": "911648b0-7418-46fd-aa10-f1d6dede4a0c",
   "metadata": {},
   "source": [
    "## Messy code below"
   ]
  },
  {
   "cell_type": "code",
   "execution_count": 29,
   "id": "15ec52ef-01b3-4ab9-92bc-e23bd6ab043a",
   "metadata": {},
   "outputs": [
    {
     "name": "stdout",
     "output_type": "stream",
     "text": [
      "['test', 'train']\n"
     ]
    }
   ],
   "source": [
    "#select train/test\n",
    "modes = os.listdir(os.path.join(data_path, 'cropped'))\n",
    "print(modes)\n",
    "mode = 'train'\n"
   ]
  },
  {
   "cell_type": "code",
   "execution_count": 36,
   "id": "156521ed-ab29-458d-a708-baa0b0e01288",
   "metadata": {},
   "outputs": [
    {
     "name": "stdout",
     "output_type": "stream",
     "text": [
      "['1300', '1031', '49', '181', '573']\n"
     ]
    }
   ],
   "source": [
    "#list down sample names/ids\n",
    "samples = os.listdir(os.path.join(data_path, 'cropped', mode, '2021', '20210106'))\n",
    "print(samples[:5])"
   ]
  },
  {
   "cell_type": "code",
   "execution_count": 37,
   "id": "691ab368-2aa5-49d9-a480-4d594cca5bc0",
   "metadata": {},
   "outputs": [],
   "source": [
    "sample = samples[0]"
   ]
  },
  {
   "cell_type": "code",
   "execution_count": 27,
   "id": "9b46464e-0f34-4af6-a0a2-bf08c610728c",
   "metadata": {},
   "outputs": [
    {
     "data": {
      "text/plain": [
       "['test', 'train']"
      ]
     },
     "execution_count": 27,
     "metadata": {},
     "output_type": "execute_result"
    }
   ],
   "source": [
    "modes"
   ]
  },
  {
   "cell_type": "code",
   "execution_count": 10,
   "id": "2c02c8b8-9149-4752-aba0-e34b2135061b",
   "metadata": {},
   "outputs": [
    {
     "data": {
      "text/plain": [
       "'//wsl$/Ubuntu/home/user/hackathon/data/cropped/train/**/*.tif'"
      ]
     },
     "execution_count": 10,
     "metadata": {},
     "output_type": "execute_result"
    }
   ],
   "source": [
    "os.path.join(data_path, 'cropped/train/**/*.tif')"
   ]
  },
  {
   "cell_type": "code",
   "execution_count": 11,
   "id": "6b9efc99-7a37-4787-9891-dda5e2df372e",
   "metadata": {},
   "outputs": [
    {
     "data": {
      "text/plain": [
       "'/home/user/hackathon'"
      ]
     },
     "execution_count": 11,
     "metadata": {},
     "output_type": "execute_result"
    }
   ],
   "source": [
    "os.getcwd()"
   ]
  },
  {
   "cell_type": "code",
   "execution_count": 20,
   "id": "d32a7393-0134-4cf5-bc82-1e2ebb5d6200",
   "metadata": {},
   "outputs": [],
   "source": [
    "image = cv2.imread(train_image_paths[4])"
   ]
  },
  {
   "cell_type": "code",
   "execution_count": 22,
   "id": "1404817d-4445-40b6-a0c2-36249dbf6597",
   "metadata": {},
   "outputs": [
    {
     "data": {
      "text/plain": [
       "(16, 10, 3)"
      ]
     },
     "execution_count": 22,
     "metadata": {},
     "output_type": "execute_result"
    }
   ],
   "source": [
    "image.shape"
   ]
  },
  {
   "cell_type": "code",
   "execution_count": null,
   "id": "05365b18-662a-41ed-b25c-a393bc1c515f",
   "metadata": {},
   "outputs": [],
   "source": []
  }
 ],
 "metadata": {
  "kernelspec": {
   "display_name": "Python 3 (ipykernel)",
   "language": "python",
   "name": "python3"
  },
  "language_info": {
   "codemirror_mode": {
    "name": "ipython",
    "version": 3
   },
   "file_extension": ".py",
   "mimetype": "text/x-python",
   "name": "python",
   "nbconvert_exporter": "python",
   "pygments_lexer": "ipython3",
   "version": "3.10.5"
  }
 },
 "nbformat": 4,
 "nbformat_minor": 5
}

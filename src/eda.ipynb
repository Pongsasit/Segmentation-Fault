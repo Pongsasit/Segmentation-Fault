{
 "cells": [
  {
   "cell_type": "markdown",
   "id": "29f86249-4a72-4c8c-bec0-007dbd7e2760",
   "metadata": {},
   "source": [
    "### Imports"
   ]
  },
  {
   "cell_type": "code",
   "execution_count": 6,
   "id": "0c506508-eeb0-41f2-b3e6-cdf25c24d302",
   "metadata": {},
   "outputs": [],
   "source": [
    "import sys\n",
    "from pathlib import Path\n",
    "import os, glob\n",
    "import numpy as np\n",
    "import pandas as pd\n",
    "import cv2\n",
    "from matplotlib import pyplot as plt\n",
    "from collections import defaultdict\n",
    "import pandas as pd\n",
    "import shutil\n"
   ]
  },
  {
   "cell_type": "markdown",
   "id": "cbe7aae6-4883-43c2-abcb-bb10ba938144",
   "metadata": {
    "tags": []
   },
   "source": [
    "### Load data attributes into dataframe"
   ]
  },
  {
   "cell_type": "markdown",
   "id": "9833b58d-cd66-49be-a237-8d7e00aa07b8",
   "metadata": {},
   "source": [
    "Load data attributes into dataframe.  \n",
    "Makes it easier to select our desired data for viewing  "
   ]
  },
  {
   "cell_type": "code",
   "execution_count": 7,
   "id": "97d4ef47-2e4e-45b8-8f5d-9ff9d04cfbe6",
   "metadata": {},
   "outputs": [],
   "source": [
    "# data_path = Path('/home/user/hackathon/data')\n",
    "# test_image_paths = glob.glob('./data/cropped/test/**/*.tif', recursive=True)\n",
    "# train_image_paths = glob.glob('./data/cropped/train/**/*.tif', recursive=True)\n",
    "all_image_paths = glob.glob('./data/cropped/**/*.tif', recursive=True) #TODO: read path from config"
   ]
  },
  {
   "cell_type": "code",
   "execution_count": 101,
   "id": "c0dbd464-45e3-444b-9a13-b55d3091deec",
   "metadata": {},
   "outputs": [],
   "source": [
    "data_list = []\n",
    "for path in all_image_paths:\n",
    "    # print(path)\n",
    "    path_parts = path.split('/')\n",
    "    mode = path_parts[3]\n",
    "    year = path_parts[4]\n",
    "    date = path_parts[5]\n",
    "    sample_id = path_parts[6]\n",
    "    filename = path_parts[7]\n",
    "    filepath = path\n",
    "    lab = filename.split('_')[0]\n",
    "    band = filename.split('_')[-1].split('.')[0]\n",
    "    # print(path_parts)\n",
    "    # print(mode, year, date, sample_id, filename, filepath, lab)\n",
    "    \n",
    "    data_list.append((mode, year, date, sample_id, band, filename, filepath, lab))\n",
    "    "
   ]
  },
  {
   "cell_type": "code",
   "execution_count": 102,
   "id": "11eeab04-6e0f-48f1-b930-77749932e779",
   "metadata": {},
   "outputs": [],
   "source": [
    "df = pd.DataFrame(data_list, columns =['mode', 'year', 'date', 'sample_id', 'band', 'filename', 'filepath', 'lab'])"
   ]
  },
  {
   "cell_type": "code",
   "execution_count": 103,
   "id": "2028c92a-9f90-4fbb-8010-8591a52c0acf",
   "metadata": {},
   "outputs": [
    {
     "data": {
      "text/html": [
       "<div>\n",
       "<style scoped>\n",
       "    .dataframe tbody tr th:only-of-type {\n",
       "        vertical-align: middle;\n",
       "    }\n",
       "\n",
       "    .dataframe tbody tr th {\n",
       "        vertical-align: top;\n",
       "    }\n",
       "\n",
       "    .dataframe thead th {\n",
       "        text-align: right;\n",
       "    }\n",
       "</style>\n",
       "<table border=\"1\" class=\"dataframe\">\n",
       "  <thead>\n",
       "    <tr style=\"text-align: right;\">\n",
       "      <th></th>\n",
       "      <th>mode</th>\n",
       "      <th>year</th>\n",
       "      <th>date</th>\n",
       "      <th>sample_id</th>\n",
       "      <th>band</th>\n",
       "      <th>filename</th>\n",
       "      <th>filepath</th>\n",
       "      <th>lab</th>\n",
       "    </tr>\n",
       "  </thead>\n",
       "  <tbody>\n",
       "    <tr>\n",
       "      <th>0</th>\n",
       "      <td>test</td>\n",
       "      <td>2021</td>\n",
       "      <td>20210913</td>\n",
       "      <td>49</td>\n",
       "      <td>B11</td>\n",
       "      <td>X_47PQS_20210913_B11.tif</td>\n",
       "      <td>./data/cropped/test/2021/20210913/49/X_47PQS_2...</td>\n",
       "      <td>X</td>\n",
       "    </tr>\n",
       "    <tr>\n",
       "      <th>1</th>\n",
       "      <td>test</td>\n",
       "      <td>2021</td>\n",
       "      <td>20210913</td>\n",
       "      <td>49</td>\n",
       "      <td>B05</td>\n",
       "      <td>X_47PQS_20210913_B05.tif</td>\n",
       "      <td>./data/cropped/test/2021/20210913/49/X_47PQS_2...</td>\n",
       "      <td>X</td>\n",
       "    </tr>\n",
       "    <tr>\n",
       "      <th>2</th>\n",
       "      <td>test</td>\n",
       "      <td>2021</td>\n",
       "      <td>20210913</td>\n",
       "      <td>49</td>\n",
       "      <td>TCI</td>\n",
       "      <td>X_47PQS_20210913_TCI.tif</td>\n",
       "      <td>./data/cropped/test/2021/20210913/49/X_47PQS_2...</td>\n",
       "      <td>X</td>\n",
       "    </tr>\n",
       "    <tr>\n",
       "      <th>3</th>\n",
       "      <td>test</td>\n",
       "      <td>2021</td>\n",
       "      <td>20210913</td>\n",
       "      <td>49</td>\n",
       "      <td>B06</td>\n",
       "      <td>X_47PQS_20210913_B06.tif</td>\n",
       "      <td>./data/cropped/test/2021/20210913/49/X_47PQS_2...</td>\n",
       "      <td>X</td>\n",
       "    </tr>\n",
       "    <tr>\n",
       "      <th>4</th>\n",
       "      <td>test</td>\n",
       "      <td>2021</td>\n",
       "      <td>20210913</td>\n",
       "      <td>49</td>\n",
       "      <td>B03</td>\n",
       "      <td>X_47PQS_20210913_B03.tif</td>\n",
       "      <td>./data/cropped/test/2021/20210913/49/X_47PQS_2...</td>\n",
       "      <td>X</td>\n",
       "    </tr>\n",
       "  </tbody>\n",
       "</table>\n",
       "</div>"
      ],
      "text/plain": [
       "   mode  year      date sample_id band                  filename  \\\n",
       "0  test  2021  20210913        49  B11  X_47PQS_20210913_B11.tif   \n",
       "1  test  2021  20210913        49  B05  X_47PQS_20210913_B05.tif   \n",
       "2  test  2021  20210913        49  TCI  X_47PQS_20210913_TCI.tif   \n",
       "3  test  2021  20210913        49  B06  X_47PQS_20210913_B06.tif   \n",
       "4  test  2021  20210913        49  B03  X_47PQS_20210913_B03.tif   \n",
       "\n",
       "                                            filepath lab  \n",
       "0  ./data/cropped/test/2021/20210913/49/X_47PQS_2...   X  \n",
       "1  ./data/cropped/test/2021/20210913/49/X_47PQS_2...   X  \n",
       "2  ./data/cropped/test/2021/20210913/49/X_47PQS_2...   X  \n",
       "3  ./data/cropped/test/2021/20210913/49/X_47PQS_2...   X  \n",
       "4  ./data/cropped/test/2021/20210913/49/X_47PQS_2...   X  "
      ]
     },
     "execution_count": 103,
     "metadata": {},
     "output_type": "execute_result"
    }
   ],
   "source": [
    "df.head()"
   ]
  },
  {
   "cell_type": "markdown",
   "id": "6593fd21-6e15-4269-a5f6-76b982c20109",
   "metadata": {
    "tags": []
   },
   "source": [
    "### View all bands"
   ]
  },
  {
   "cell_type": "code",
   "execution_count": 104,
   "id": "20445a35-7710-4c1e-b963-750097f7542d",
   "metadata": {},
   "outputs": [
    {
     "name": "stdout",
     "output_type": "stream",
     "text": [
      "number of bands: 15\n",
      "['AOT' 'B01' 'B02' 'B03' 'B04' 'B05' 'B06' 'B07' 'B08' 'B11' 'B12' 'B8A'\n",
      " 'SCL' 'TCI' 'WVP']\n"
     ]
    }
   ],
   "source": [
    "unq_bands = np.sort(df.band.unique())\n",
    "print(f'number of bands: {len(unq_bands)}')\n",
    "print(unq_bands)\n",
    "    \n"
   ]
  },
  {
   "cell_type": "markdown",
   "id": "9a40ec75-0e0c-4e7d-ac59-bbaa96cabc88",
   "metadata": {
    "tags": []
   },
   "source": [
    "### View all labels"
   ]
  },
  {
   "cell_type": "code",
   "execution_count": 137,
   "id": "71caeba0-d380-4f30-bb0d-7f2747adc861",
   "metadata": {},
   "outputs": [
    {
     "name": "stdout",
     "output_type": "stream",
     "text": [
      "number of labels: 5\n",
      "['1' '2' '3' '4' 'X']\n"
     ]
    }
   ],
   "source": [
    "dat = np.sort(df.lab.unique())\n",
    "print(f'number of labels: {len(dat)}')\n",
    "print(dat)\n",
    "    \n"
   ]
  },
  {
   "cell_type": "markdown",
   "id": "709c9467-205c-42d2-895a-f0d1ba718c04",
   "metadata": {},
   "source": [
    "let's inspect the number of samples for each label"
   ]
  },
  {
   "cell_type": "code",
   "execution_count": 147,
   "id": "a4976e24-977f-46a8-95bb-ecba6418820e",
   "metadata": {},
   "outputs": [
    {
     "data": {
      "text/plain": [
       "X    40115\n",
       "1    36210\n",
       "3    30743\n",
       "2    17040\n",
       "4     9514\n",
       "Name: lab, dtype: int64"
      ]
     },
     "execution_count": 147,
     "metadata": {},
     "output_type": "execute_result"
    }
   ],
   "source": [
    "val_counts = df[df['band']=='TCI'].lab.value_counts() #use only 1 band or else each sample gets multiplied with one band\n",
    "val_counts"
   ]
  },
  {
   "cell_type": "markdown",
   "id": "cc07acb0-ee1a-4116-91a0-6f8ec356facc",
   "metadata": {},
   "source": [
    "let's plot that"
   ]
  },
  {
   "cell_type": "code",
   "execution_count": 148,
   "id": "59485068-82ed-498a-ab97-3bfa23051a19",
   "metadata": {},
   "outputs": [
    {
     "data": {
      "image/png": "[encoded data removed]",
      "text/plain": [
       "<Figure size 432x288 with 1 Axes>"
      ]
     },
     "metadata": {
      "needs_background": "light"
     },
     "output_type": "display_data"
    }
   ],
   "source": [
    "\n",
    "val_counts.plot(kind='barh')\n",
    "plt.show()"
   ]
  },
  {
   "cell_type": "markdown",
   "id": "a49c819b-6f9c-49f5-802a-b36c57bc4d3d",
   "metadata": {},
   "source": [
    "### View number of samples\n"
   ]
  },
  {
   "cell_type": "code",
   "execution_count": 150,
   "id": "46317a66-b272-4fdb-add9-5e2bcf1e2f47",
   "metadata": {},
   "outputs": [
    {
     "name": "stdout",
     "output_type": "stream",
     "text": [
      "number of samples: 1317\n",
      "['0' '1' '10' ... '997' '998' '999']\n"
     ]
    }
   ],
   "source": [
    "dat = np.sort(df.sample_id.unique())\n",
    "print(f'number of samples: {len(dat)}')\n",
    "print(dat)\n",
    "    \n"
   ]
  },
  {
   "cell_type": "markdown",
   "id": "d0a484c3-e488-45f0-832b-a32bf0b4c42e",
   "metadata": {},
   "source": [
    "HUHHH???   \n",
    "... anyway..."
   ]
  },
  {
   "cell_type": "markdown",
   "id": "a9251aac-963a-485a-90d4-1e76a0e5a6e3",
   "metadata": {
    "tags": []
   },
   "source": [
    "### Create subset (sample) of data"
   ]
  },
  {
   "cell_type": "code",
   "execution_count": 167,
   "id": "10cc1bfa-185e-4a8a-a36f-7344a04a98f4",
   "metadata": {},
   "outputs": [
    {
     "name": "stdout",
     "output_type": "stream",
     "text": [
      "(6600, 8)\n"
     ]
    },
    {
     "data": {
      "text/html": [
       "<div>\n",
       "<style scoped>\n",
       "    .dataframe tbody tr th:only-of-type {\n",
       "        vertical-align: middle;\n",
       "    }\n",
       "\n",
       "    .dataframe tbody tr th {\n",
       "        vertical-align: top;\n",
       "    }\n",
       "\n",
       "    .dataframe thead th {\n",
       "        text-align: right;\n",
       "    }\n",
       "</style>\n",
       "<table border=\"1\" class=\"dataframe\">\n",
       "  <thead>\n",
       "    <tr style=\"text-align: right;\">\n",
       "      <th></th>\n",
       "      <th>mode</th>\n",
       "      <th>year</th>\n",
       "      <th>date</th>\n",
       "      <th>sample_id</th>\n",
       "      <th>band</th>\n",
       "      <th>filename</th>\n",
       "      <th>filepath</th>\n",
       "      <th>lab</th>\n",
       "    </tr>\n",
       "  </thead>\n",
       "  <tbody>\n",
       "    <tr>\n",
       "      <th>9135</th>\n",
       "      <td>test</td>\n",
       "      <td>2021</td>\n",
       "      <td>20210225</td>\n",
       "      <td>4</td>\n",
       "      <td>B06</td>\n",
       "      <td>X_47PQS_20210225_B06.tif</td>\n",
       "      <td>./data/cropped/test/2021/20210225/4/X_47PQS_20...</td>\n",
       "      <td>X</td>\n",
       "    </tr>\n",
       "    <tr>\n",
       "      <th>9136</th>\n",
       "      <td>test</td>\n",
       "      <td>2021</td>\n",
       "      <td>20210225</td>\n",
       "      <td>4</td>\n",
       "      <td>B04</td>\n",
       "      <td>X_47PQS_20210225_B04.tif</td>\n",
       "      <td>./data/cropped/test/2021/20210225/4/X_47PQS_20...</td>\n",
       "      <td>X</td>\n",
       "    </tr>\n",
       "    <tr>\n",
       "      <th>9137</th>\n",
       "      <td>test</td>\n",
       "      <td>2021</td>\n",
       "      <td>20210225</td>\n",
       "      <td>4</td>\n",
       "      <td>B07</td>\n",
       "      <td>X_47PQS_20210225_B07.tif</td>\n",
       "      <td>./data/cropped/test/2021/20210225/4/X_47PQS_20...</td>\n",
       "      <td>X</td>\n",
       "    </tr>\n",
       "    <tr>\n",
       "      <th>9138</th>\n",
       "      <td>test</td>\n",
       "      <td>2021</td>\n",
       "      <td>20210225</td>\n",
       "      <td>4</td>\n",
       "      <td>B12</td>\n",
       "      <td>X_47PQS_20210225_B12.tif</td>\n",
       "      <td>./data/cropped/test/2021/20210225/4/X_47PQS_20...</td>\n",
       "      <td>X</td>\n",
       "    </tr>\n",
       "    <tr>\n",
       "      <th>9139</th>\n",
       "      <td>test</td>\n",
       "      <td>2021</td>\n",
       "      <td>20210225</td>\n",
       "      <td>4</td>\n",
       "      <td>B02</td>\n",
       "      <td>X_47PQS_20210225_B02.tif</td>\n",
       "      <td>./data/cropped/test/2021/20210225/4/X_47PQS_20...</td>\n",
       "      <td>X</td>\n",
       "    </tr>\n",
       "  </tbody>\n",
       "</table>\n",
       "</div>"
      ],
      "text/plain": [
       "      mode  year      date sample_id band                  filename  \\\n",
       "9135  test  2021  20210225         4  B06  X_47PQS_20210225_B06.tif   \n",
       "9136  test  2021  20210225         4  B04  X_47PQS_20210225_B04.tif   \n",
       "9137  test  2021  20210225         4  B07  X_47PQS_20210225_B07.tif   \n",
       "9138  test  2021  20210225         4  B12  X_47PQS_20210225_B12.tif   \n",
       "9139  test  2021  20210225         4  B02  X_47PQS_20210225_B02.tif   \n",
       "\n",
       "                                               filepath lab  \n",
       "9135  ./data/cropped/test/2021/20210225/4/X_47PQS_20...   X  \n",
       "9136  ./data/cropped/test/2021/20210225/4/X_47PQS_20...   X  \n",
       "9137  ./data/cropped/test/2021/20210225/4/X_47PQS_20...   X  \n",
       "9138  ./data/cropped/test/2021/20210225/4/X_47PQS_20...   X  \n",
       "9139  ./data/cropped/test/2021/20210225/4/X_47PQS_20...   X  "
      ]
     },
     "execution_count": 167,
     "metadata": {},
     "output_type": "execute_result"
    }
   ],
   "source": [
    "subset = df[((df['date'].str.contains('202101'))|(df['date'].str.contains('202102')))\n",
    "            &\n",
    "            (df['sample_id'].astype(int) < 20)]\n",
    "print(subset.shape)\n",
    "subset.head()\n"
   ]
  },
  {
   "cell_type": "code",
   "execution_count": 168,
   "id": "bde5c1f4-769b-4b15-962d-0e193309fc80",
   "metadata": {
    "tags": []
   },
   "outputs": [],
   "source": [
    "\n",
    "for idx, row in subset.iterrows():\n",
    "    source_filepath = row.filepath\n",
    "    dest_filepath = source_filepath.replace('cropped', 'cropped_subset')\n",
    "    # print(source_filepath, os.path.basename(dest_filepath))\n",
    "    os.makedirs(os.path.dirname(dest_filepath), exist_ok = True) \n",
    "    shutil.copy(source_filepath, dest_filepath)\n"
   ]
  },
  {
   "cell_type": "markdown",
   "id": "0cd3c431-beaa-425d-bcee-ba607a3d5e0e",
   "metadata": {},
   "source": [
    "### compare samples between classes"
   ]
  },
  {
   "cell_type": "code",
   "execution_count": 119,
   "id": "88848054-e41c-417a-8982-413b178d09ea",
   "metadata": {},
   "outputs": [],
   "source": [
    "samples_class_1 = df[(df['band']=='TCI')&(df['lab']=='1')].iloc[0:5]\n",
    "samples_class_2 = df[(df['band']=='TCI')&(df['lab']=='2')].iloc[0:5]\n",
    "samples_class_3 = df[(df['band']=='TCI')&(df['lab']=='3')].iloc[0:5]\n",
    "samples_class_4 = df[(df['band']=='TCI')&(df['lab']=='4')].iloc[0:5]\n"
   ]
  },
  {
   "cell_type": "code",
   "execution_count": 130,
   "id": "ebafd77b-1345-4dba-a357-cc02e9a6404a",
   "metadata": {},
   "outputs": [],
   "source": [
    "def view_sample(row):\n",
    "    image = cv2.imread(row.filepath)\n",
    "    plt.figure(figsize=(2, 2))\n",
    "    plt.imshow(image)\n",
    "    plt.show()"
   ]
  },
  {
   "cell_type": "code",
   "execution_count": 133,
   "id": "de2532a1-7536-463a-ae29-166011f7bd95",
   "metadata": {},
   "outputs": [
    {
     "data": {
      "image/png": "[encoded data removed]",
      "text/plain": [
       "<Figure size 144x144 with 1 Axes>"
      ]
     },
     "metadata": {
      "needs_background": "light"
     },
     "output_type": "display_data"
    },
    {
     "data": {
      "image/png": "[encoded data removed]",
      "text/plain": [
       "<Figure size 144x144 with 1 Axes>"
      ]
     },
     "metadata": {
      "needs_background": "light"
     },
     "output_type": "display_data"
    },
    {
     "data": {
      "image/png": "[encoded data removed]",
      "text/plain": [
       "<Figure size 144x144 with 1 Axes>"
      ]
     },
     "metadata": {
      "needs_background": "light"
     },
     "output_type": "display_data"
    },
    {
     "data": {
      "image/png": "[encoded data removed]",
      "text/plain": [
       "<Figure size 144x144 with 1 Axes>"
      ]
     },
     "metadata": {
      "needs_background": "light"
     },
     "output_type": "display_data"
    },
    {
     "data": {
      "image/png": "[encoded data removed]",
      "text/plain": [
       "<Figure size 144x144 with 1 Axes>"
      ]
     },
     "metadata": {
      "needs_background": "light"
     },
     "output_type": "display_data"
    },
    {
     "data": {
      "image/png": "[encoded data removed]",
      "text/plain": [
       "<Figure size 144x144 with 1 Axes>"
      ]
     },
     "metadata": {
      "needs_background": "light"
     },
     "output_type": "display_data"
    },
    {
     "data": {
      "image/png": "[encoded data removed]",
      "text/plain": [
       "<Figure size 144x144 with 1 Axes>"
      ]
     },
     "metadata": {
      "needs_background": "light"
     },
     "output_type": "display_data"
    },
    {
     "data": {
      "image/png": "[encoded data removed]",
      "text/plain": [
       "<Figure size 144x144 with 1 Axes>"
      ]
     },
     "metadata": {
      "needs_background": "light"
     },
     "output_type": "display_data"
    },
    {
     "data": {
      "image/png": "[encoded data removed]",
      "text/plain": [
       "<Figure size 144x144 with 1 Axes>"
      ]
     },
     "metadata": {
      "needs_background": "light"
     },
     "output_type": "display_data"
    },
    {
     "data": {
      "image/png": "[encoded data removed]",
      "text/plain": [
       "<Figure size 144x144 with 1 Axes>"
      ]
     },
     "metadata": {
      "needs_background": "light"
     },
     "output_type": "display_data"
    },
    {
     "data": {
      "image/png": "[encoded data removed]",
      "text/plain": [
       "<Figure size 144x144 with 1 Axes>"
      ]
     },
     "metadata": {
      "needs_background": "light"
     },
     "output_type": "display_data"
    },
    {
     "data": {
      "image/png": "[encoded data removed]",
      "text/plain": [
       "<Figure size 144x144 with 1 Axes>"
      ]
     },
     "metadata": {
      "needs_background": "light"
     },
     "output_type": "display_data"
    },
    {
     "data": {
      "image/png": "[encoded data removed]",
      "text/plain": [
       "<Figure size 144x144 with 1 Axes>"
      ]
     },
     "metadata": {
      "needs_background": "light"
     },
     "output_type": "display_data"
    },
    {
     "data": {
      "image/png": "[encoded data removed]",
      "text/plain": [
       "<Figure size 144x144 with 1 Axes>"
      ]
     },
     "metadata": {
      "needs_background": "light"
     },
     "output_type": "display_data"
    },
    {
     "data": {
      "image/png": "[encoded data removed]",
      "text/plain": [
       "<Figure size 144x144 with 1 Axes>"
      ]
     },
     "metadata": {
      "needs_background": "light"
     },
     "output_type": "display_data"
    },
    {
     "data": {
      "image/png": "[encoded data removed]",
      "text/plain": [
       "<Figure size 144x144 with 1 Axes>"
      ]
     },
     "metadata": {
      "needs_background": "light"
     },
     "output_type": "display_data"
    },
    {
     "data": {
      "image/png": "[encoded data removed]",
      "text/plain": [
       "<Figure size 144x144 with 1 Axes>"
      ]
     },
     "metadata": {
      "needs_background": "light"
     },
     "output_type": "display_data"
    },
    {
     "data": {
      "image/png": "[encoded data removed]",
      "text/plain": [
       "<Figure size 144x144 with 1 Axes>"
      ]
     },
     "metadata": {
      "needs_background": "light"
     },
     "output_type": "display_data"
    },
    {
     "data": {
      "image/png": "[encoded data removed]",
      "text/plain": [
       "<Figure size 144x144 with 1 Axes>"
      ]
     },
     "metadata": {
      "needs_background": "light"
     },
     "output_type": "display_data"
    },
    {
     "data": {
      "image/png": "[encoded data removed]",
      "text/plain": [
       "<Figure size 144x144 with 1 Axes>"
      ]
     },
     "metadata": {
      "needs_background": "light"
     },
     "output_type": "display_data"
    }
   ],
   "source": [
    "for sample_class in [samples_class_1, samples_class_2, samples_class_3, samples_class_4]:\n",
    "    for index, row in sample_class.iterrows():\n",
    "        view_sample(row)\n",
    "    \n",
    "    "
   ]
  },
  {
   "cell_type": "markdown",
   "id": "911648b0-7418-46fd-aa10-f1d6dede4a0c",
   "metadata": {},
   "source": [
    "## Messy code below"
   ]
  },
  {
   "cell_type": "code",
   "execution_count": 29,
   "id": "15ec52ef-01b3-4ab9-92bc-e23bd6ab043a",
   "metadata": {},
   "outputs": [
    {
     "name": "stdout",
     "output_type": "stream",
     "text": [
      "['test', 'train']\n"
     ]
    }
   ],
   "source": [
    "#select train/test\n",
    "modes = os.listdir(os.path.join(data_path, 'cropped'))\n",
    "print(modes)\n",
    "mode = 'train'\n"
   ]
  },
  {
   "cell_type": "code",
   "execution_count": 36,
   "id": "156521ed-ab29-458d-a708-baa0b0e01288",
   "metadata": {},
   "outputs": [
    {
     "name": "stdout",
     "output_type": "stream",
     "text": [
      "['1300', '1031', '49', '181', '573']\n"
     ]
    }
   ],
   "source": [
    "#list down sample names/ids\n",
    "samples = os.listdir(os.path.join(data_path, 'cropped', mode, '2021', '20210106'))\n",
    "print(samples[:5])"
   ]
  },
  {
   "cell_type": "code",
   "execution_count": 37,
   "id": "691ab368-2aa5-49d9-a480-4d594cca5bc0",
   "metadata": {},
   "outputs": [],
   "source": [
    "sample = samples[0]"
   ]
  },
  {
   "cell_type": "code",
   "execution_count": 27,
   "id": "9b46464e-0f34-4af6-a0a2-bf08c610728c",
   "metadata": {},
   "outputs": [
    {
     "data": {
      "text/plain": [
       "['test', 'train']"
      ]
     },
     "execution_count": 27,
     "metadata": {},
     "output_type": "execute_result"
    }
   ],
   "source": [
    "modes"
   ]
  },
  {
   "cell_type": "code",
   "execution_count": 10,
   "id": "2c02c8b8-9149-4752-aba0-e34b2135061b",
   "metadata": {},
   "outputs": [
    {
     "data": {
      "text/plain": [
       "'//wsl$/Ubuntu/home/user/hackathon/data/cropped/train/**/*.tif'"
      ]
     },
     "execution_count": 10,
     "metadata": {},
     "output_type": "execute_result"
    }
   ],
   "source": [
    "os.path.join(data_path, 'cropped/train/**/*.tif')"
   ]
  },
  {
   "cell_type": "code",
   "execution_count": 11,
   "id": "6b9efc99-7a37-4787-9891-dda5e2df372e",
   "metadata": {},
   "outputs": [
    {
     "data": {
      "text/plain": [
       "'/home/user/hackathon'"
      ]
     },
     "execution_count": 11,
     "metadata": {},
     "output_type": "execute_result"
    }
   ],
   "source": [
    "os.getcwd()"
   ]
  },
  {
   "cell_type": "code",
   "execution_count": 20,
   "id": "d32a7393-0134-4cf5-bc82-1e2ebb5d6200",
   "metadata": {},
   "outputs": [],
   "source": [
    "image = cv2.imread(train_image_paths[4])"
   ]
  },
  {
   "cell_type": "code",
   "execution_count": 22,
   "id": "1404817d-4445-40b6-a0c2-36249dbf6597",
   "metadata": {},
   "outputs": [
    {
     "data": {
      "text/plain": [
       "(16, 10, 3)"
      ]
     },
     "execution_count": 22,
     "metadata": {},
     "output_type": "execute_result"
    }
   ],
   "source": [
    "image.shape"
   ]
  },
  {
   "cell_type": "code",
   "execution_count": null,
   "id": "05365b18-662a-41ed-b25c-a393bc1c515f",
   "metadata": {},
   "outputs": [],
   "source": []
  }
 ],
 "metadata": {
  "kernelspec": {
   "display_name": "Python 3 (ipykernel)",
   "language": "python",
   "name": "python3"
  },
  "language_info": {
   "codemirror_mode": {
    "name": "ipython",
    "version": 3
   },
   "file_extension": ".py",
   "mimetype": "text/x-python",
   "name": "python",
   "nbconvert_exporter": "python",
   "pygments_lexer": "ipython3",
   "version": "3.10.5"
  }
 },
 "nbformat": 4,
 "nbformat_minor": 5
}
